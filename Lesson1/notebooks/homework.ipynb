{
 "cells": [
  {
   "cell_type": "markdown",
   "source": [
    "# Домашняя работа к семинару №1"
   ],
   "metadata": {
    "collapsed": false
   }
  },
  {
   "cell_type": "markdown",
   "source": [
    "## Часть1: Самостоятельное изучение\n",
    "Ознакомьтесь с библиотеками для распараллеливания задач в python:\n",
    "1. multiprocessing: [https://docs.python.org/3/library/multiprocessing.html](https://docs.python.org/3/library/multiprocessing.html)\n",
    "2. joblib: [https://joblib.readthedocs.io/en/latest/parallel.html](https://joblib.readthedocs.io/en/latest/parallel.html)\n",
    "3. dask: [https://www.dask.org/](https://www.dask.org/)\n",
    "4. ray: [https://www.ray.io/ray-core](https://www.ray.io/ray-core)"
   ],
   "metadata": {
    "collapsed": false
   }
  },
  {
   "cell_type": "markdown",
   "source": [
    "Попробуйте изучить плюсы и минусы, чтобы в будущем понимать, когда и какая библиотека может быть вам полезна."
   ],
   "metadata": {
    "collapsed": false
   }
  },
  {
   "cell_type": "markdown",
   "source": [
    "## Часть2: Анализ средней длины песни\n",
    "Используя понравившуюся библиотеку (проще всего с Dask) проанализируйте среднюю длину песни по годам. В каком году были самые длинные песни?"
   ],
   "metadata": {
    "collapsed": false
   },
   "execution_count": 1
  },
  {
   "cell_type": "markdown",
   "source": [
    "### Решение"
   ],
   "metadata": {
    "collapsed": false
   }
  },
  {
   "cell_type": "code",
   "execution_count": null,
   "outputs": [],
   "source": [],
   "metadata": {
    "collapsed": false
   }
  },
  {
   "cell_type": "markdown",
   "source": [
    "Для начала загрузим данные на диск:"
   ],
   "metadata": {
    "collapsed": false
   }
  },
  {
   "cell_type": "code",
   "execution_count": null,
   "outputs": [],
   "source": [],
   "metadata": {
    "collapsed": false
   }
  },
  {
   "cell_type": "markdown",
   "source": [
    "Затем с помощью dask посчитаем среднюю длину песни для каждого года:"
   ],
   "metadata": {
    "collapsed": false
   }
  },
  {
   "cell_type": "code",
   "execution_count": null,
   "outputs": [],
   "source": [],
   "metadata": {
    "collapsed": false
   }
  }
 ],
 "metadata": {
  "kernelspec": {
   "display_name": "Python 3",
   "language": "python",
   "name": "python3"
  },
  "language_info": {
   "codemirror_mode": {
    "name": "ipython",
    "version": 2
   },
   "file_extension": ".py",
   "mimetype": "text/x-python",
   "name": "python",
   "nbconvert_exporter": "python",
   "pygments_lexer": "ipython2",
   "version": "2.7.6"
  }
 },
 "nbformat": 4,
 "nbformat_minor": 0
}
